{
  "nbformat": 4,
  "nbformat_minor": 0,
  "metadata": {
    "colab": {
      "provenance": []
    },
    "kernelspec": {
      "name": "python3",
      "display_name": "Python 3"
    },
    "language_info": {
      "name": "python"
    }
  },
  "cells": [
    {
      "cell_type": "code",
      "execution_count": null,
      "metadata": {
        "colab": {
          "base_uri": "https://localhost:8080/"
        },
        "id": "YNjD492PnAks",
        "outputId": "5e43c561-19d5-4ee4-dcaa-ac6c6e599dd2"
      },
      "outputs": [
        {
          "output_type": "stream",
          "name": "stdout",
          "text": [
            "[0 1 2 3 4 5 6 7 8 9]\n"
          ]
        }
      ],
      "source": [
        "import numpy as np\n",
        "a=np.arange(10)\n",
        "print(a)"
      ]
    },
    {
      "cell_type": "code",
      "source": [
        "c=np.linspace(5,10,5)\n",
        "c"
      ],
      "metadata": {
        "colab": {
          "base_uri": "https://localhost:8080/"
        },
        "id": "8Zy5v9HFpglT",
        "outputId": "edc52ce5-f251-40c3-c505-57ccd20c0f38"
      },
      "execution_count": null,
      "outputs": [
        {
          "output_type": "execute_result",
          "data": {
            "text/plain": [
              "array([ 5.  ,  6.25,  7.5 ,  8.75, 10.  ])"
            ]
          },
          "metadata": {},
          "execution_count": 4
        }
      ]
    },
    {
      "cell_type": "code",
      "source": [
        "o=np.ones((3,3))\n",
        "o"
      ],
      "metadata": {
        "colab": {
          "base_uri": "https://localhost:8080/"
        },
        "id": "g-ixeDtYpvRD",
        "outputId": "f7878f35-fce5-4e45-91e6-a7056ddb0fa6"
      },
      "execution_count": null,
      "outputs": [
        {
          "output_type": "execute_result",
          "data": {
            "text/plain": [
              "array([[1., 1., 1.],\n",
              "       [1., 1., 1.],\n",
              "       [1., 1., 1.]])"
            ]
          },
          "metadata": {},
          "execution_count": 5
        }
      ]
    },
    {
      "cell_type": "code",
      "source": [
        "e=np.eye(2,3)\n",
        "e"
      ],
      "metadata": {
        "colab": {
          "base_uri": "https://localhost:8080/"
        },
        "id": "GirwDjcMp0-z",
        "outputId": "63690203-4b94-4740-804f-004e83e4d36b"
      },
      "execution_count": null,
      "outputs": [
        {
          "output_type": "execute_result",
          "data": {
            "text/plain": [
              "array([[1., 0., 0.],\n",
              "       [0., 1., 0.]])"
            ]
          },
          "metadata": {},
          "execution_count": 6
        }
      ]
    },
    {
      "cell_type": "code",
      "source": [
        "d=np.diag([1,2,3,4])\n",
        "d"
      ],
      "metadata": {
        "colab": {
          "base_uri": "https://localhost:8080/"
        },
        "id": "jkDachKYqHKT",
        "outputId": "931d83a7-59c6-4af9-de58-44513a321e05"
      },
      "execution_count": null,
      "outputs": [
        {
          "output_type": "execute_result",
          "data": {
            "text/plain": [
              "array([[1, 0, 0, 0],\n",
              "       [0, 2, 0, 0],\n",
              "       [0, 0, 3, 0],\n",
              "       [0, 0, 0, 4]])"
            ]
          },
          "metadata": {},
          "execution_count": 7
        }
      ]
    },
    {
      "cell_type": "code",
      "source": [
        "print(a)\n",
        "print(a[9])\n",
        "print(a[-1])"
      ],
      "metadata": {
        "colab": {
          "base_uri": "https://localhost:8080/"
        },
        "id": "0TdDvhXPqL7T",
        "outputId": "f79c9e3f-1a47-49bd-b7a6-547df745fb32"
      },
      "execution_count": null,
      "outputs": [
        {
          "output_type": "stream",
          "name": "stdout",
          "text": [
            "[0 1 2 3 4 5 6 7 8 9]\n",
            "9\n",
            "9\n"
          ]
        }
      ]
    },
    {
      "cell_type": "code",
      "source": [
        "a=np.random.randint(0,20,15)\n",
        "print(a)"
      ],
      "metadata": {
        "colab": {
          "base_uri": "https://localhost:8080/"
        },
        "id": "i9Fl_TlQrLYk",
        "outputId": "0db8c72f-fa01-4b66-c432-1fc3dfe9d4e6"
      },
      "execution_count": null,
      "outputs": [
        {
          "output_type": "stream",
          "name": "stdout",
          "text": [
            "[16 16  6 14 19 12 16 11  6 11 11  4  3  1 16]\n"
          ]
        }
      ]
    },
    {
      "cell_type": "code",
      "source": [
        "mask="
      ],
      "metadata": {
        "id": "bPhC64mws4_M"
      },
      "execution_count": null,
      "outputs": []
    },
    {
      "cell_type": "code",
      "source": [
        "a=np.array([1,2,5,4])\n",
        "b=np.array([6,2,9,4])\n",
        "print(a==b)"
      ],
      "metadata": {
        "colab": {
          "base_uri": "https://localhost:8080/"
        },
        "id": "ImOh8zJAtJQ9",
        "outputId": "3f8e17cc-186c-4df5-889f-454cea6f2c42"
      },
      "execution_count": null,
      "outputs": [
        {
          "output_type": "stream",
          "name": "stdout",
          "text": [
            "[False  True False  True]\n"
          ]
        }
      ]
    },
    {
      "cell_type": "code",
      "source": [
        "print(a>b)"
      ],
      "metadata": {
        "colab": {
          "base_uri": "https://localhost:8080/"
        },
        "id": "jwJU6yAit8wb",
        "outputId": "5da91d57-f186-4b85-8614-8f30fac55056"
      },
      "execution_count": null,
      "outputs": [
        {
          "output_type": "stream",
          "name": "stdout",
          "text": [
            "[False False False False]\n"
          ]
        }
      ]
    },
    {
      "cell_type": "code",
      "source": [
        "print(a<b)"
      ],
      "metadata": {
        "colab": {
          "base_uri": "https://localhost:8080/"
        },
        "id": "M7Sd0leguBIb",
        "outputId": "59cf6ada-0052-4a14-e2c2-5c8cee101fd5"
      },
      "execution_count": null,
      "outputs": [
        {
          "output_type": "stream",
          "name": "stdout",
          "text": [
            "[ True False  True False]\n"
          ]
        }
      ]
    },
    {
      "cell_type": "code",
      "source": [
        "print(np.array_equal(a,b))"
      ],
      "metadata": {
        "colab": {
          "base_uri": "https://localhost:8080/"
        },
        "id": "mIxFB2ZluSQr",
        "outputId": "3672b987-cdec-470a-a0e6-7eae9cd8694b"
      },
      "execution_count": null,
      "outputs": [
        {
          "output_type": "stream",
          "name": "stdout",
          "text": [
            "False\n"
          ]
        }
      ]
    },
    {
      "cell_type": "code",
      "source": [
        "c=np.array([1,2,3,4,5])\n",
        "print(np.array_equal(a,c))"
      ],
      "metadata": {
        "colab": {
          "base_uri": "https://localhost:8080/"
        },
        "id": "OLqFsY8Wu0U0",
        "outputId": "c40075d3-b333-4a72-d4c3-92e1b8603a8d"
      },
      "execution_count": null,
      "outputs": [
        {
          "output_type": "stream",
          "name": "stdout",
          "text": [
            "False\n"
          ]
        }
      ]
    },
    {
      "cell_type": "markdown",
      "source": [
        "Logical Operations"
      ],
      "metadata": {
        "id": "KbfSB22Yx1Zj"
      }
    },
    {
      "cell_type": "code",
      "source": [
        "a=np.array([1,0,0,1],dtype=bool)\n",
        "b=np.array([0,1,0,1],dtype=bool)\n",
        "print(np.logical_or(a,b))"
      ],
      "metadata": {
        "colab": {
          "base_uri": "https://localhost:8080/"
        },
        "id": "9Hb6-V9yvQqS",
        "outputId": "88566949-f54e-4348-bd5c-8aa36d787be5"
      },
      "execution_count": null,
      "outputs": [
        {
          "output_type": "stream",
          "name": "stdout",
          "text": [
            "[ True  True False  True]\n"
          ]
        }
      ]
    },
    {
      "cell_type": "code",
      "source": [
        "print(np.logical_and(a,b))"
      ],
      "metadata": {
        "colab": {
          "base_uri": "https://localhost:8080/"
        },
        "id": "rr-By2oQvxiM",
        "outputId": "34025624-75c4-4797-f03e-59fcaa1f797a"
      },
      "execution_count": null,
      "outputs": [
        {
          "output_type": "stream",
          "name": "stdout",
          "text": [
            "[False False False  True]\n"
          ]
        }
      ]
    },
    {
      "cell_type": "code",
      "source": [
        "print(np.logical_not(a,b))"
      ],
      "metadata": {
        "colab": {
          "base_uri": "https://localhost:8080/"
        },
        "id": "IZC330Q9wPpy",
        "outputId": "0c1f4146-6f5a-4891-b324-e265bd88013c"
      },
      "execution_count": null,
      "outputs": [
        {
          "output_type": "stream",
          "name": "stdout",
          "text": [
            "[False  True  True False]\n"
          ]
        }
      ]
    },
    {
      "cell_type": "code",
      "source": [
        "a=np.arange(5)+1\n",
        "print(np.sin(a))"
      ],
      "metadata": {
        "colab": {
          "base_uri": "https://localhost:8080/"
        },
        "id": "HqIL4sB7wW6b",
        "outputId": "f0b98f18-ccb9-406c-c51a-f400fa9aca19"
      },
      "execution_count": null,
      "outputs": [
        {
          "output_type": "stream",
          "name": "stdout",
          "text": [
            "[ 0.84147098  0.90929743  0.14112001 -0.7568025  -0.95892427]\n"
          ]
        }
      ]
    },
    {
      "cell_type": "code",
      "source": [
        "print(np.log(a))"
      ],
      "metadata": {
        "colab": {
          "base_uri": "https://localhost:8080/"
        },
        "id": "g7EGcFPXw2HK",
        "outputId": "83ccfd03-30f7-4825-f603-308ae1a97694"
      },
      "execution_count": null,
      "outputs": [
        {
          "output_type": "stream",
          "name": "stdout",
          "text": [
            "[0.         0.69314718 1.09861229 1.38629436 1.60943791]\n"
          ]
        }
      ]
    },
    {
      "cell_type": "code",
      "source": [
        "print(np.exp(a))"
      ],
      "metadata": {
        "colab": {
          "base_uri": "https://localhost:8080/"
        },
        "id": "aXMgEECkw8Nb",
        "outputId": "2b78a81b-36ac-4f83-8e53-33f177d28e52"
      },
      "execution_count": null,
      "outputs": [
        {
          "output_type": "stream",
          "name": "stdout",
          "text": [
            "[  2.71828183   7.3890561   20.08553692  54.59815003 148.4131591 ]\n"
          ]
        }
      ]
    },
    {
      "cell_type": "markdown",
      "source": [
        "Shape  mismatch"
      ],
      "metadata": {
        "id": "lrf3bOaLxxC7"
      }
    },
    {
      "cell_type": "code",
      "source": [
        "a=np.array([1,2,3,4])\n",
        "b=np.array([5,10])\n",
        "print(a+b)"
      ],
      "metadata": {
        "colab": {
          "base_uri": "https://localhost:8080/",
          "height": 210
        },
        "id": "pK2x5b5lxEab",
        "outputId": "5ec0d36a-c910-4849-ee1c-ff31073fbf6f"
      },
      "execution_count": null,
      "outputs": [
        {
          "output_type": "error",
          "ename": "ValueError",
          "evalue": "operands could not be broadcast together with shapes (4,) (2,) ",
          "traceback": [
            "\u001b[0;31m---------------------------------------------------------------------------\u001b[0m",
            "\u001b[0;31mValueError\u001b[0m                                Traceback (most recent call last)",
            "\u001b[0;32m<ipython-input-28-f8e2422298ab>\u001b[0m in \u001b[0;36m<cell line: 3>\u001b[0;34m()\u001b[0m\n\u001b[1;32m      1\u001b[0m \u001b[0ma\u001b[0m\u001b[0;34m=\u001b[0m\u001b[0mnp\u001b[0m\u001b[0;34m.\u001b[0m\u001b[0marray\u001b[0m\u001b[0;34m(\u001b[0m\u001b[0;34m[\u001b[0m\u001b[0;36m1\u001b[0m\u001b[0;34m,\u001b[0m\u001b[0;36m2\u001b[0m\u001b[0;34m,\u001b[0m\u001b[0;36m3\u001b[0m\u001b[0;34m,\u001b[0m\u001b[0;36m4\u001b[0m\u001b[0;34m]\u001b[0m\u001b[0;34m)\u001b[0m\u001b[0;34m\u001b[0m\u001b[0;34m\u001b[0m\u001b[0m\n\u001b[1;32m      2\u001b[0m \u001b[0mb\u001b[0m\u001b[0;34m=\u001b[0m\u001b[0mnp\u001b[0m\u001b[0;34m.\u001b[0m\u001b[0marray\u001b[0m\u001b[0;34m(\u001b[0m\u001b[0;34m[\u001b[0m\u001b[0;36m5\u001b[0m\u001b[0;34m,\u001b[0m\u001b[0;36m10\u001b[0m\u001b[0;34m]\u001b[0m\u001b[0;34m)\u001b[0m\u001b[0;34m\u001b[0m\u001b[0;34m\u001b[0m\u001b[0m\n\u001b[0;32m----> 3\u001b[0;31m \u001b[0mprint\u001b[0m\u001b[0;34m(\u001b[0m\u001b[0ma\u001b[0m\u001b[0;34m+\u001b[0m\u001b[0mb\u001b[0m\u001b[0;34m)\u001b[0m\u001b[0;34m\u001b[0m\u001b[0;34m\u001b[0m\u001b[0m\n\u001b[0m",
            "\u001b[0;31mValueError\u001b[0m: operands could not be broadcast together with shapes (4,) (2,) "
          ]
        }
      ]
    },
    {
      "cell_type": "code",
      "source": [
        "a=np.array([1,2,3,4])\n",
        "b=np.array([5,10,2,4])\n",
        "print(a+b)"
      ],
      "metadata": {
        "colab": {
          "base_uri": "https://localhost:8080/"
        },
        "id": "NfR30r3ryYky",
        "outputId": "e099d97c-e083-4360-dd07-7724c46117c7"
      },
      "execution_count": null,
      "outputs": [
        {
          "output_type": "stream",
          "name": "stdout",
          "text": [
            "[ 6 12  5  8]\n"
          ]
        }
      ]
    },
    {
      "cell_type": "code",
      "source": [
        "x=np.array([1,2,3,4])\n",
        "np.sum(x)"
      ],
      "metadata": {
        "colab": {
          "base_uri": "https://localhost:8080/"
        },
        "id": "3E_gjh9Ay4lj",
        "outputId": "7f7f2076-7f9a-4696-b378-7fae7ca05b5a"
      },
      "execution_count": null,
      "outputs": [
        {
          "output_type": "execute_result",
          "data": {
            "text/plain": [
              "10"
            ]
          },
          "metadata": {},
          "execution_count": 30
        }
      ]
    },
    {
      "cell_type": "code",
      "source": [
        "y=np.array([[1,2],[3,4]])\n",
        "print(y)\n",
        "print(\"*\"*100)\n",
        "print(y.T)"
      ],
      "metadata": {
        "colab": {
          "base_uri": "https://localhost:8080/"
        },
        "id": "Feez4O6zy_04",
        "outputId": "f8be1faf-e92b-4169-b669-bf92c62b6ed1"
      },
      "execution_count": null,
      "outputs": [
        {
          "output_type": "stream",
          "name": "stdout",
          "text": [
            "[[1 2]\n",
            " [3 4]]\n",
            "****************************************************************************************************\n",
            "[[1 3]\n",
            " [2 4]]\n"
          ]
        }
      ]
    },
    {
      "cell_type": "code",
      "source": [
        "print(y.sum(axis=0))"
      ],
      "metadata": {
        "colab": {
          "base_uri": "https://localhost:8080/"
        },
        "id": "4LCu1yq00R_r",
        "outputId": "3e14a07f-b001-432e-c32f-606b60f0d6cd"
      },
      "execution_count": null,
      "outputs": [
        {
          "output_type": "stream",
          "name": "stdout",
          "text": [
            "[4 6]\n"
          ]
        }
      ]
    },
    {
      "cell_type": "code",
      "source": [
        "print(y.sum(axis=1))"
      ],
      "metadata": {
        "colab": {
          "base_uri": "https://localhost:8080/"
        },
        "id": "9tuIn1du09YT",
        "outputId": "b103cc5b-b0a8-4247-e2f7-ca959b241867"
      },
      "execution_count": null,
      "outputs": [
        {
          "output_type": "stream",
          "name": "stdout",
          "text": [
            "[3 7]\n"
          ]
        }
      ]
    },
    {
      "cell_type": "code",
      "source": [
        "print(y.max())"
      ],
      "metadata": {
        "colab": {
          "base_uri": "https://localhost:8080/"
        },
        "id": "Euvm1-uW1ChC",
        "outputId": "0aa35a9b-9086-429d-aa46-2ef05a15023b"
      },
      "execution_count": null,
      "outputs": [
        {
          "output_type": "stream",
          "name": "stdout",
          "text": [
            "4\n"
          ]
        }
      ]
    },
    {
      "cell_type": "code",
      "source": [
        "#index of min\n",
        "print(y.argmin())"
      ],
      "metadata": {
        "colab": {
          "base_uri": "https://localhost:8080/"
        },
        "id": "_RRGuppa1Lgq",
        "outputId": "7c50d9ce-3109-4cb6-95b1-7be6718c896c"
      },
      "execution_count": null,
      "outputs": [
        {
          "output_type": "stream",
          "name": "stdout",
          "text": [
            "0\n"
          ]
        }
      ]
    },
    {
      "cell_type": "code",
      "source": [
        "#index of max\n",
        "print(y.argmax())"
      ],
      "metadata": {
        "colab": {
          "base_uri": "https://localhost:8080/"
        },
        "id": "WYsn9_lP1U_j",
        "outputId": "6333b12e-f280-47fe-cd23-f94f58b1fa69"
      },
      "execution_count": null,
      "outputs": [
        {
          "output_type": "stream",
          "name": "stdout",
          "text": [
            "3\n"
          ]
        }
      ]
    },
    {
      "cell_type": "markdown",
      "source": [
        "Logical Reductions"
      ],
      "metadata": {
        "id": "e8_52jed2KGQ"
      }
    },
    {
      "cell_type": "code",
      "source": [
        "print(np.all([True,False,False]))"
      ],
      "metadata": {
        "colab": {
          "base_uri": "https://localhost:8080/"
        },
        "id": "W6asvEoD1lis",
        "outputId": "fcdaa0a4-bee7-4f77-b4d2-098933a529b5"
      },
      "execution_count": null,
      "outputs": [
        {
          "output_type": "stream",
          "name": "stdout",
          "text": [
            "False\n"
          ]
        }
      ]
    },
    {
      "cell_type": "code",
      "source": [
        "print(np.any([True,False,False]))"
      ],
      "metadata": {
        "colab": {
          "base_uri": "https://localhost:8080/"
        },
        "id": "ucR4lzqm2PVb",
        "outputId": "643eacae-0329-4adb-946f-0bfead0e5c02"
      },
      "execution_count": null,
      "outputs": [
        {
          "output_type": "stream",
          "name": "stdout",
          "text": [
            "True\n"
          ]
        }
      ]
    },
    {
      "cell_type": "code",
      "source": [
        "a=np.zeros((50,50))\n",
        "a\n",
        "print(np.any(a!=0))"
      ],
      "metadata": {
        "colab": {
          "base_uri": "https://localhost:8080/"
        },
        "id": "cxY0jAx42WxP",
        "outputId": "c190cf97-160e-4224-949b-2c57e43ac486"
      },
      "execution_count": null,
      "outputs": [
        {
          "output_type": "stream",
          "name": "stdout",
          "text": [
            "False\n"
          ]
        }
      ]
    },
    {
      "cell_type": "markdown",
      "source": [
        "Statistics"
      ],
      "metadata": {
        "id": "TJsDBCUX3N_a"
      }
    },
    {
      "cell_type": "code",
      "source": [
        "x=np.arange(1,10)\n",
        "print(np.mean(x))"
      ],
      "metadata": {
        "colab": {
          "base_uri": "https://localhost:8080/"
        },
        "id": "jo_-o8_a3AUL",
        "outputId": "1578bbbe-d0ca-4447-92be-73b6576d01e2"
      },
      "execution_count": null,
      "outputs": [
        {
          "output_type": "stream",
          "name": "stdout",
          "text": [
            "5.0\n"
          ]
        }
      ]
    },
    {
      "cell_type": "code",
      "source": [
        "print(np.median(x))"
      ],
      "metadata": {
        "colab": {
          "base_uri": "https://localhost:8080/"
        },
        "id": "zOi1JqAY3fLr",
        "outputId": "a29c12e2-01b8-4cd6-97ad-3d4bf6f4f721"
      },
      "execution_count": null,
      "outputs": [
        {
          "output_type": "stream",
          "name": "stdout",
          "text": [
            "5.0\n"
          ]
        }
      ]
    },
    {
      "cell_type": "code",
      "source": [
        "y=np.array([[1,2,3],[4,5,6]])\n",
        "print(np.mean(y,axis=0))\n",
        "print(np.mean(y,axis=1))"
      ],
      "metadata": {
        "colab": {
          "base_uri": "https://localhost:8080/"
        },
        "id": "dZDfXgSH34yr",
        "outputId": "6c86032a-d394-469b-91f9-ad1d21829e32"
      },
      "execution_count": null,
      "outputs": [
        {
          "output_type": "stream",
          "name": "stdout",
          "text": [
            "[2.5 3.5 4.5]\n",
            "[2. 5.]\n"
          ]
        }
      ]
    },
    {
      "cell_type": "code",
      "source": [
        "print(np.std(x))"
      ],
      "metadata": {
        "colab": {
          "base_uri": "https://localhost:8080/"
        },
        "id": "E5YMD4KK4iNb",
        "outputId": "b96ec6f2-4b42-495c-818d-bbe8c697eec9"
      },
      "execution_count": null,
      "outputs": [
        {
          "output_type": "stream",
          "name": "stdout",
          "text": [
            "2.581988897471611\n"
          ]
        }
      ]
    },
    {
      "cell_type": "code",
      "source": [
        "#create one dimensional array from list\n",
        "l=[12.3,13.32,100,30.35]\n",
        "import numpy as np\n",
        "array_from_list = np.array(l)\n",
        "print(array_from_list)\n"
      ],
      "metadata": {
        "colab": {
          "base_uri": "https://localhost:8080/"
        },
        "id": "Tz1cM5fM-aSq",
        "outputId": "80cc79bf-4939-4e9c-cd17-afad7582817b"
      },
      "execution_count": null,
      "outputs": [
        {
          "output_type": "stream",
          "name": "stdout",
          "text": [
            "[ 12.3   13.32 100.    30.35]\n"
          ]
        }
      ]
    },
    {
      "cell_type": "markdown",
      "source": [
        "craete 3x3 matrix with elements 2 to 10"
      ],
      "metadata": {
        "id": "6rFm2zeg7Y5K"
      }
    },
    {
      "cell_type": "code",
      "source": [
        "a=np.arange(2,11)\n",
        "m=a.reshape(3,3)\n",
        "m"
      ],
      "metadata": {
        "colab": {
          "base_uri": "https://localhost:8080/"
        },
        "id": "UFK_zk956AoD",
        "outputId": "3a8fdb6f-3506-48ce-c24f-7284d2eb54d1"
      },
      "execution_count": null,
      "outputs": [
        {
          "output_type": "execute_result",
          "data": {
            "text/plain": [
              "array([[ 2,  3,  4],\n",
              "       [ 5,  6,  7],\n",
              "       [ 8,  9, 10]])"
            ]
          },
          "metadata": {},
          "execution_count": 56
        }
      ]
    },
    {
      "cell_type": "markdown",
      "source": [
        "write a numpy program to sort an along the first axis, last axis of an array"
      ],
      "metadata": {
        "id": "KwdJKjWA62Ha"
      }
    },
    {
      "cell_type": "code",
      "source": [
        "arr=np.array([[4,6],[2,1]])\n",
        "print(arr)\n",
        "print(np.sort(arr,axis=0))\n",
        "print(np.sort(arr,axis=1))"
      ],
      "metadata": {
        "colab": {
          "base_uri": "https://localhost:8080/"
        },
        "id": "oJ0ckNuF6uWq",
        "outputId": "7702ecd8-df43-4b7b-8652-f9dc15498ce8"
      },
      "execution_count": null,
      "outputs": [
        {
          "output_type": "stream",
          "name": "stdout",
          "text": [
            "[[4 6]\n",
            " [2 1]]\n",
            "[[2 1]\n",
            " [4 6]]\n",
            "[[4 6]\n",
            " [1 2]]\n"
          ]
        }
      ]
    },
    {
      "cell_type": "markdown",
      "source": [
        "Write a numpy progran to create a contiguous flattened array"
      ],
      "metadata": {
        "id": "bTK-Q-JZ87qL"
      }
    },
    {
      "cell_type": "code",
      "source": [
        "a=np.array([[10,20,30],[20,40,50]])\n",
        "print(np.ravel(a))"
      ],
      "metadata": {
        "colab": {
          "base_uri": "https://localhost:8080/"
        },
        "id": "8dnEyrOU9ccL",
        "outputId": "a8a3af26-1bd5-4078-d5df-e125920d7d3a"
      },
      "execution_count": null,
      "outputs": [
        {
          "output_type": "stream",
          "name": "stdout",
          "text": [
            "[10 20 30 20 40 50]\n"
          ]
        }
      ]
    },
    {
      "cell_type": "markdown",
      "source": [
        "Write a numpy program to display all the dates of march 2017"
      ],
      "metadata": {
        "id": "YqxkQqHf-Tg6"
      }
    },
    {
      "cell_type": "code",
      "source": [
        "print(\"March, 2017\")\n",
        "print(np.arange('2017-03', '2017-04', dtype='datetime64[D]'))"
      ],
      "metadata": {
        "colab": {
          "base_uri": "https://localhost:8080/"
        },
        "id": "VtgqpjYI-j31",
        "outputId": "3ea1ab4c-c627-46ef-c22a-6011b0afc1be"
      },
      "execution_count": null,
      "outputs": [
        {
          "output_type": "stream",
          "name": "stdout",
          "text": [
            "March, 2017\n",
            "['2017-03-01' '2017-03-02' '2017-03-03' '2017-03-04' '2017-03-05'\n",
            " '2017-03-06' '2017-03-07' '2017-03-08' '2017-03-09' '2017-03-10'\n",
            " '2017-03-11' '2017-03-12' '2017-03-13' '2017-03-14' '2017-03-15'\n",
            " '2017-03-16' '2017-03-17' '2017-03-18' '2017-03-19' '2017-03-20'\n",
            " '2017-03-21' '2017-03-22' '2017-03-23' '2017-03-24' '2017-03-25'\n",
            " '2017-03-26' '2017-03-27' '2017-03-28' '2017-03-29' '2017-03-30'\n",
            " '2017-03-31']\n"
          ]
        }
      ]
    }
  ]
}